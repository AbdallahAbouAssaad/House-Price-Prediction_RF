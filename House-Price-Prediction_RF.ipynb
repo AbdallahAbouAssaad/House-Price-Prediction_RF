{
  "nbformat": 4,
  "nbformat_minor": 0,
  "metadata": {
    "colab": {
      "provenance": [],
      "toc_visible": true
    },
    "kernelspec": {
      "name": "python3",
      "display_name": "Python 3"
    },
    "language_info": {
      "name": "python"
    }
  },
  "cells": [
    {
      "cell_type": "code",
      "execution_count": 29,
      "metadata": {
        "colab": {
          "base_uri": "https://localhost:8080/"
        },
        "id": "hIpqdqNe0Zhu",
        "outputId": "807ee9f6-bc4c-4e04-a08b-6302706cae12"
      },
      "outputs": [
        {
          "output_type": "stream",
          "name": "stdout",
          "text": [
            "(21613, 21)\n",
            "           id             date     price  bedrooms  bathrooms  sqft_living  \\\n",
            "0  7129300520  20141013T000000  221900.0         3       1.00         1180   \n",
            "1  6414100192  20141209T000000  538000.0         3       2.25         2570   \n",
            "2  5631500400  20150225T000000  180000.0         2       1.00          770   \n",
            "3  2487200875  20141209T000000  604000.0         4       3.00         1960   \n",
            "4  1954400510  20150218T000000  510000.0         3       2.00         1680   \n",
            "\n",
            "   sqft_lot  floors waterfront  view  ... grade  sqft_above  sqft_basement  \\\n",
            "0      5650     1.0          N     0  ...     7        1180              0   \n",
            "1      7242     2.0          N     0  ...     7        2170            400   \n",
            "2     10000     1.0          N     0  ...     6         770              0   \n",
            "3      5000     1.0          N     0  ...     7        1050            910   \n",
            "4      8080     1.0          N     0  ...     8        1680              0   \n",
            "\n",
            "   yr_built  yr_renovated  zipcode      lat     long  sqft_living15  \\\n",
            "0      1955             0    98178  47.5112 -122.257           1340   \n",
            "1      1951          1991    98125  47.7210 -122.319           1690   \n",
            "2      1933             0    98028  47.7379 -122.233           2720   \n",
            "3      1965             0    98136  47.5208 -122.393           1360   \n",
            "4      1987             0    98074  47.6168 -122.045           1800   \n",
            "\n",
            "   sqft_lot15  \n",
            "0        5650  \n",
            "1        7639  \n",
            "2        8062  \n",
            "3        5000  \n",
            "4        7503  \n",
            "\n",
            "[5 rows x 21 columns]\n"
          ]
        }
      ],
      "source": [
        "import pandas as pd\n",
        "\n",
        "# Load your dataset\n",
        "df = pd.read_csv(\"house_prices.csv\")\n",
        "\n",
        "# Quick look\n",
        "print(df.shape)       # rows, columns\n",
        "print(df.head())      # first rows"
      ]
    },
    {
      "cell_type": "code",
      "source": [
        "X = df.drop(\"price\", axis=1)  # features\n",
        "Y = df[\"price\"]               # target"
      ],
      "metadata": {
        "id": "3vzfEZXtFO_w"
      },
      "execution_count": 30,
      "outputs": []
    },
    {
      "cell_type": "code",
      "source": [
        "numeric_features = X.select_dtypes(include=['int64', 'float64']).columns.tolist()\n",
        "categorical_features = X.select_dtypes(include=['object']).columns.tolist()\n",
        "\n",
        "print(\"Numeric features:\", numeric_features)\n",
        "print(\"Categorical features:\", categorical_features)"
      ],
      "metadata": {
        "colab": {
          "base_uri": "https://localhost:8080/"
        },
        "id": "xlOSYbm6Fx5I",
        "outputId": "0290a4bd-eee3-4232-c184-65ce90c43ee8"
      },
      "execution_count": 31,
      "outputs": [
        {
          "output_type": "stream",
          "name": "stdout",
          "text": [
            "Numeric features: ['id', 'bedrooms', 'bathrooms', 'sqft_living', 'sqft_lot', 'floors', 'view', 'grade', 'sqft_above', 'sqft_basement', 'yr_built', 'yr_renovated', 'zipcode', 'lat', 'long', 'sqft_living15', 'sqft_lot15']\n",
            "Categorical features: ['date', 'waterfront', 'condition']\n"
          ]
        }
      ]
    },
    {
      "cell_type": "code",
      "source": [
        "from sklearn.impute import SimpleImputer\n",
        "\n",
        "num_imputer = SimpleImputer(strategy=\"median\")\n",
        "cat_imputer = SimpleImputer(strategy=\"most_frequent\")"
      ],
      "metadata": {
        "id": "Z2Bcd5ToIMxS"
      },
      "execution_count": 32,
      "outputs": []
    },
    {
      "cell_type": "code",
      "source": [
        "from sklearn.preprocessing import OneHotEncoder\n",
        "from sklearn.compose import ColumnTransformer\n",
        "from sklearn.pipeline import Pipeline\n",
        "\n",
        "# Categorical pipeline: fill missing values → encode\n",
        "cat_pipeline = Pipeline(steps=[\n",
        "    (\"imputer\", cat_imputer),\n",
        "    (\"encoder\", OneHotEncoder(handle_unknown=\"ignore\"))\n",
        "])\n",
        "\n",
        "preprocessor = ColumnTransformer(\n",
        "    transformers=[\n",
        "        (\"num\", num_imputer, numeric_features),\n",
        "        (\"cat\", cat_pipeline, categorical_features)\n",
        "    ]\n",
        ")"
      ],
      "metadata": {
        "id": "xlnoqJ68IS1P"
      },
      "execution_count": 33,
      "outputs": []
    },
    {
      "cell_type": "code",
      "source": [
        "from sklearn.tree import DecisionTreeRegressor\n",
        "\n",
        "dt_pipeline = Pipeline(steps=[\n",
        "    (\"preprocessor\", preprocessor),\n",
        "    (\"model\", DecisionTreeRegressor(\n",
        "        random_state=1,\n",
        "        max_depth=5,        # limit depth\n",
        "        min_samples_leaf=4  # minimum samples per leaf\n",
        "    ))\n",
        "])"
      ],
      "metadata": {
        "id": "WfQ04YBMIbY1"
      },
      "execution_count": 34,
      "outputs": []
    },
    {
      "cell_type": "code",
      "source": [
        "from sklearn.model_selection import train_test_split\n",
        "\n",
        "# Split data (80% train, 20% test is standard)\n",
        "X_train, X_test, y_train, y_test = train_test_split(\n",
        "    X, Y, test_size=0.2, random_state=1\n",
        ")"
      ],
      "metadata": {
        "id": "uaP31iFBJd2K"
      },
      "execution_count": 35,
      "outputs": []
    },
    {
      "cell_type": "code",
      "source": [
        "from sklearn.metrics import mean_squared_error, r2_score, mean_absolute_error\n",
        "\n",
        "# Fit on training data\n",
        "dt_pipeline.fit(X_train, y_train)\n",
        "\n",
        "# Predict\n",
        "y_pred = dt_pipeline.predict(X_test)\n",
        "\n",
        "# Evaluate\n",
        "mse = mean_squared_error(y_test, y_pred)\n",
        "r2 = r2_score(y_test, y_pred)\n",
        "mae = mean_absolute_error(y_test, y_pred)\n",
        "\n",
        "print(\"Decision Tree MSE:\", mse)\n",
        "print(\"Decision Tree R²:\", r2)\n",
        "print(\"Decision Tree MAE:\", mae)"
      ],
      "metadata": {
        "colab": {
          "base_uri": "https://localhost:8080/"
        },
        "id": "tkbnPT6TKH74",
        "outputId": "dacee4e2-31b0-478d-dcf1-474f9f611634"
      },
      "execution_count": 36,
      "outputs": [
        {
          "output_type": "stream",
          "name": "stdout",
          "text": [
            "Decision Tree MSE: 50239239881.09809\n",
            "Decision Tree R²: 0.7089284053841449\n",
            "Decision Tree MAE: 115436.12636967892\n"
          ]
        }
      ]
    },
    {
      "cell_type": "code",
      "source": [
        "from sklearn.ensemble import RandomForestRegressor\n",
        "\n",
        "# Random Forest pipeline\n",
        "rf_pipeline = Pipeline(steps=[\n",
        "    (\"preprocessor\", preprocessor),\n",
        "    (\"model\", RandomForestRegressor(\n",
        "        n_estimators=100,    # number of trees\n",
        "        random_state=1,\n",
        "        n_jobs=-1            # use all CPU cores\n",
        "    ))\n",
        "])\n",
        "# Fit and predict\n",
        "rf_pipeline.fit(X_train, y_train)\n",
        "y_pred_rf = rf_pipeline.predict(X_test)\n",
        "\n",
        "# Evaluate\n",
        "print(\"Random Forest MSE:\", mean_squared_error(y_test, y_pred_rf))\n",
        "print(\"Random Forest R²:\", r2_score(y_test, y_pred_rf))\n",
        "print(\"Random Forest MAE:\", mean_absolute_error(y_test, y_pred_rf))"
      ],
      "metadata": {
        "colab": {
          "base_uri": "https://localhost:8080/"
        },
        "id": "9TQvmZrwK_9N",
        "outputId": "21d863c0-e620-4caf-bf36-ff96d2bc081d"
      },
      "execution_count": 37,
      "outputs": [
        {
          "output_type": "stream",
          "name": "stdout",
          "text": [
            "Random Forest MSE: 24236123248.269356\n",
            "Random Forest R²: 0.8595829264559731\n",
            "Random Forest MAE: 72590.71894286375\n"
          ]
        }
      ]
    },
    {
      "cell_type": "code",
      "source": [
        "print(Y.mean())"
      ],
      "metadata": {
        "colab": {
          "base_uri": "https://localhost:8080/"
        },
        "id": "plzGMZFOvhT2",
        "outputId": "5012c7ef-022e-4bf3-a021-d129a06c8425"
      },
      "execution_count": 39,
      "outputs": [
        {
          "output_type": "stream",
          "name": "stdout",
          "text": [
            "540088.1417665294\n"
          ]
        }
      ]
    },
    {
      "cell_type": "code",
      "source": [
        "import matplotlib.pyplot as plt\n",
        "\n",
        "# Colors\n",
        "actual_color = 'black'\n",
        "dt_color = 'blue'\n",
        "rf_color = 'green'\n",
        "\n",
        "plt.figure(figsize=(8,6))\n",
        "\n",
        "# Plot perfect prediction line\n",
        "plt.plot([y_test.min(), y_test.max()], [y_test.min(), y_test.max()], 'k--', lw=2, label='Perfect Prediction')\n",
        "\n",
        "# Scatter plots\n",
        "plt.scatter(y_test, y_test, color=actual_color, alpha=0.3, label='Actual Prices')  # actuals along y=x line\n",
        "plt.scatter(y_test, y_pred, color=dt_color, alpha=0.6, label='Decision Tree')\n",
        "plt.scatter(y_test, y_pred_rf, color=rf_color, alpha=0.6, label='Random Forest')\n",
        "\n",
        "# Labels and title\n",
        "plt.xlabel('Actual Prices')\n",
        "plt.ylabel('Predicted Prices')\n",
        "plt.title('Predicted vs Actual Prices: Decision Tree vs Random Forest')\n",
        "plt.legend()\n",
        "plt.grid(True)\n",
        "\n",
        "# Save figure\n",
        "plt.savefig('actual_dt_rf_pred_vs_actual.png')\n",
        "plt.close()"
      ],
      "metadata": {
        "id": "J7k7tuf5CGGh"
      },
      "execution_count": 42,
      "outputs": []
    }
  ]
}